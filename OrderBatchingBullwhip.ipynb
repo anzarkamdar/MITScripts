{
 "cells": [
  {
   "cell_type": "code",
   "execution_count": 179,
   "metadata": {},
   "outputs": [],
   "source": [
    "import pandas as pd\n",
    "import numpy as np\n",
    "import scipy.stats as stats\n",
    "import matplotlib.pyplot as plt\n",
    "import ipywidgets as widgets\n",
    "from ipywidgets import interactive, fixed, interact_manual, Layout, HBox, VBox,IntSlider"
   ]
  },
  {
   "cell_type": "code",
   "execution_count": 180,
   "metadata": {},
   "outputs": [
    {
     "data": {
      "application/vnd.jupyter.widget-view+json": {
       "model_id": "35a4fc02870a42f7a05cdbb8e249405b",
       "version_major": 2,
       "version_minor": 0
      },
      "text/plain": [
       "VBox(children=(HBox(children=(IntSlider(value=100, description='mu', max=1000, min=10, step=10), IntSlider(val…"
      ]
     },
     "metadata": {},
     "output_type": "display_data"
    }
   ],
   "source": [
    "def BWOrderBatching(mu,std,R,N):\n",
    "    r = np.ceil(stats.norm(mu,std).rvs(size=N))\n",
    "    df = pd.DataFrame({'Store Demand':r})\n",
    "    df.index +=1\n",
    "    df['Order Daily'] = df['Store Demand']\n",
    "    df['Order EOD'] = df['Order Daily'].rolling(2).sum()\n",
    "    df.iloc[::2,2] = 0\n",
    "    df['Order Every '+str(R)] = df['Order Daily'].rolling(R).sum()\n",
    "    df.loc[~((df.index)%R==0),'Order Every '+str(R)] = 0\n",
    "    fig,ax = plt.subplots(2,1,figsize=(20,10));\n",
    "    df.replace(np.nan,0).plot(ax=ax[0]);\n",
    "    ax[0].legend(loc='upper left');\n",
    "    df.boxplot(ax=ax[1]);\n",
    "    plt.show()\n",
    "    display(np.round((df.var(axis=0)).to_frame('Variance').join(df.describe().transpose()),2));\n",
    "    qgrid_widget = qgrid.show_grid(np.round(df, 2), show_toolbar=True, grid_options={\n",
    "    'forceFitColumns': True, 'defaultColumnWidth': 200})\n",
    "    display(qgrid_widget)\n",
    "\n",
    "# Remove semicolon if you want to inspect the dataframe\n",
    "qgrid_widget\n",
    "\n",
    "bwhip = interactive(BWOrderBatching, {'manual': True, 'manual_name': 'Create Figure'}, \n",
    "    mu=IntSlider(min=10,description='mu',max=1000,step=10,value=100), \n",
    "    std=IntSlider(min=0,description='sigma',max=200,step=1,value=10),\n",
    "    R=IntSlider(min=1,description='R',max=10,step=1,value=7),\n",
    "    N=IntSlider(min=1,description='N',max=500,step=1,value=14))\n",
    "\n",
    "controls = HBox(bwhip.children[:-1], layout=Layout(flex_flow='row wrap'))\n",
    "output = bwhip.children[-1]\n",
    "display(VBox([controls, output]))"
   ]
  },
  {
   "cell_type": "code",
   "execution_count": null,
   "metadata": {},
   "outputs": [],
   "source": []
  }
 ],
 "metadata": {
  "kernelspec": {
   "display_name": "Python 3",
   "language": "python",
   "name": "python3"
  },
  "language_info": {
   "codemirror_mode": {
    "name": "ipython",
    "version": 3
   },
   "file_extension": ".py",
   "mimetype": "text/x-python",
   "name": "python",
   "nbconvert_exporter": "python",
   "pygments_lexer": "ipython3",
   "version": "3.7.1"
  },
  "toc": {
   "base_numbering": 1,
   "nav_menu": {},
   "number_sections": true,
   "sideBar": true,
   "skip_h1_title": false,
   "title_cell": "Table of Contents",
   "title_sidebar": "Contents",
   "toc_cell": false,
   "toc_position": {},
   "toc_section_display": true,
   "toc_window_display": false
  }
 },
 "nbformat": 4,
 "nbformat_minor": 2
}
